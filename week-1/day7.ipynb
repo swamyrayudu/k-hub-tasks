{
 "cells": [
  {
   "cell_type": "markdown",
   "id": "d0841c5e",
   "metadata": {},
   "source": [
    "leetcode 2 problem "
   ]
  },
  {
   "cell_type": "code",
   "execution_count": null,
   "id": "ff51a92c",
   "metadata": {},
   "outputs": [],
   "source": [
    "l1 = [2,4,3]\n",
    "l2 = [5,6,4]\n",
    "\n",
    "def addtwo(l1,l2):\n",
    "    def reverse(arr,l,r):\n",
    "        if l>=r:\n",
    "            return\n",
    "        arr[l],arr[r] = arr[r],arr[l]\n",
    "        reverse(arr,l+1,r-1)\n",
    "    reverse(l1,0,len(l1)-1)\n",
    "    reverse(l2,0,len(l2)-1)\n",
    "\n",
    "    nums1 = int(\"\".join(map(str,l1)))\n",
    "    nums2 = int(\"\".join(map(str,l2)))\n",
    "    total = nums1 + nums2\n",
    "    return [int(d) for d in str(total)]\n",
    "print(addtwo(l1,l2))\n",
    "            \n"
   ]
  }
 ],
 "metadata": {
  "language_info": {
   "name": "python"
  }
 },
 "nbformat": 4,
 "nbformat_minor": 5
}
