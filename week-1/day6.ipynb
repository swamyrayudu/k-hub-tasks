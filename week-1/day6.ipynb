{
 "cells": [
  {
   "cell_type": "code",
   "execution_count": 1,
   "id": "7db72f4f",
   "metadata": {},
   "outputs": [
    {
     "name": "stdout",
     "output_type": "stream",
     "text": [
      "3\n"
     ]
    }
   ],
   "source": [
    "\n",
    "def serch(arr,target):\n",
    "    def ranges(i = 0):\n",
    "        if i == len(arr):\n",
    "            return -1\n",
    "        if arr[i] == target:\n",
    "            return i\n",
    "        return ranges(i+1)\n",
    "    return ranges()\n",
    "arr1 = [2, 4, 6, 8, 10]\n",
    "target1 = 8\n",
    "\n",
    "print(serch(arr1,target1))"
   ]
  },
  {
   "cell_type": "code",
   "execution_count": 3,
   "id": "068aada6",
   "metadata": {},
   "outputs": [
    {
     "name": "stdout",
     "output_type": "stream",
     "text": [
      "4\n"
     ]
    }
   ],
   "source": [
    "arr1 = [1, 2, 3, 2, 4, 2,2]\n",
    "target1 = 2\n",
    "\n",
    "\n",
    "def serch(arr,target):\n",
    "    def target1(i = 0):\n",
    "        count = 0\n",
    "        if i == len(arr):\n",
    "            return 0\n",
    "        if arr[i] == target:\n",
    "            count +=1\n",
    "        return count + target1(i+1)\n",
    "    return target1()\n",
    "print(serch(arr1,target1))"
   ]
  },
  {
   "cell_type": "markdown",
   "id": "49e784f4",
   "metadata": {},
   "source": [
    "leetcode 279"
   ]
  },
  {
   "cell_type": "code",
   "execution_count": null,
   "id": "9c149434",
   "metadata": {},
   "outputs": [],
   "source": [
    "# The isBadVersion API is already defined for you.\n",
    "# def isBadVersion(version: int) -> bool:\n",
    "\n",
    "class Solution:\n",
    "    def firstBadVersion(self, n: int) -> int:\n",
    "        def binarySearch(low, high):\n",
    "            # Base case\n",
    "            if low == high:\n",
    "                return low\n",
    "            mid = (low + high) // 2\n",
    "            if isBadVersion(mid):\n",
    "                # Bad version found → check left side\n",
    "                return binarySearch(low, mid)\n",
    "            else:\n",
    "                # Still good → check right side\n",
    "                return binarySearch(mid + 1, high)\n",
    "        return binarySearch(1, n)\n",
    "\n"
   ]
  }
 ],
 "metadata": {
  "kernelspec": {
   "display_name": "Python 3",
   "language": "python",
   "name": "python3"
  },
  "language_info": {
   "codemirror_mode": {
    "name": "ipython",
    "version": 3
   },
   "file_extension": ".py",
   "mimetype": "text/x-python",
   "name": "python",
   "nbconvert_exporter": "python",
   "pygments_lexer": "ipython3",
   "version": "3.12.4"
  }
 },
 "nbformat": 4,
 "nbformat_minor": 5
}
