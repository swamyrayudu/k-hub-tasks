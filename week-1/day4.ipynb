{
 "cells": [
  {
   "cell_type": "markdown",
   "id": "5bafc741",
   "metadata": {},
   "source": [
    "recursion"
   ]
  },
  {
   "cell_type": "markdown",
   "id": "5c21a8a3",
   "metadata": {},
   "source": [
    "using recursion find the factorial"
   ]
  },
  {
   "cell_type": "code",
   "execution_count": 1,
   "id": "0bebddd4",
   "metadata": {},
   "outputs": [
    {
     "name": "stdout",
     "output_type": "stream",
     "text": [
      "120\n"
     ]
    }
   ],
   "source": [
    "def factorial(n):\n",
    "    if n < 1:\n",
    "        return 1\n",
    "    return n * factorial(n-1)\n",
    "print(factorial(5))       "
   ]
  },
  {
   "cell_type": "markdown",
   "id": "06e166dc",
   "metadata": {},
   "source": [
    "using recursion to find the fibonacci series"
   ]
  },
  {
   "cell_type": "code",
   "execution_count": 6,
   "id": "dc0487ba",
   "metadata": {},
   "outputs": [
    {
     "name": "stdout",
     "output_type": "stream",
     "text": [
      "5\n"
     ]
    }
   ],
   "source": [
    "def fibnocci(n):\n",
    "    if n == 1 or n==2:\n",
    "        return 1\n",
    "    fib = fibnocci(n-1) + fibnocci(n-2)\n",
    "    return fib\n",
    "print(fibnocci(5))"
   ]
  },
  {
   "cell_type": "markdown",
   "id": "04c00535",
   "metadata": {},
   "source": [
    "reverse a string using recursion"
   ]
  },
  {
   "cell_type": "code",
   "execution_count": 7,
   "id": "326c1ab6",
   "metadata": {},
   "outputs": [
    {
     "name": "stdout",
     "output_type": "stream",
     "text": [
      "olleh\n"
     ]
    }
   ],
   "source": [
    "def stg(s):\n",
    "    if len(s) <= 1:\n",
    "        return s\n",
    "    return stg(s[1:]) + s[0]\n",
    "print(stg('hello'))"
   ]
  }
 ],
 "metadata": {
  "kernelspec": {
   "display_name": "Python 3",
   "language": "python",
   "name": "python3"
  },
  "language_info": {
   "codemirror_mode": {
    "name": "ipython",
    "version": 3
   },
   "file_extension": ".py",
   "mimetype": "text/x-python",
   "name": "python",
   "nbconvert_exporter": "python",
   "pygments_lexer": "ipython3",
   "version": "3.12.4"
  }
 },
 "nbformat": 4,
 "nbformat_minor": 5
}
