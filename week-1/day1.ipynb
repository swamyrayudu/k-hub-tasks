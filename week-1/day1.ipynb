{
 "cells": [
  {
   "cell_type": "markdown",
   "id": "813c98a7",
   "metadata": {},
   "source": [
    "strings"
   ]
  },
  {
   "cell_type": "code",
   "execution_count": 1,
   "id": "0f06a660",
   "metadata": {},
   "outputs": [
    {
     "name": "stdout",
     "output_type": "stream",
     "text": [
      "s\n",
      "w\n",
      "a\n",
      "m\n",
      "y\n"
     ]
    }
   ],
   "source": [
    "stg = \"swamy\"\n",
    "\n",
    "for char in stg:\n",
    "    print(char)"
   ]
  },
  {
   "cell_type": "markdown",
   "id": "13d6a82b",
   "metadata": {},
   "source": [
    "string methods\n",
    "len method this is used to find out the string length."
   ]
  },
  {
   "cell_type": "code",
   "execution_count": 3,
   "id": "1bd6e5cd",
   "metadata": {},
   "outputs": [
    {
     "name": "stdout",
     "output_type": "stream",
     "text": [
      "5\n"
     ]
    }
   ],
   "source": [
    "stg = \"swamy\"\n",
    "print(len(stg))"
   ]
  },
  {
   "cell_type": "markdown",
   "id": "364ba3bc",
   "metadata": {},
   "source": [
    "count method in strings\n",
    "\n",
    "this used to count the string characters and also find the how many words on that sentence"
   ]
  },
  {
   "cell_type": "code",
   "execution_count": 17,
   "id": "a83c922b",
   "metadata": {},
   "outputs": [
    {
     "name": "stdout",
     "output_type": "stream",
     "text": [
      "1\n"
     ]
    }
   ],
   "source": [
    "stg = 'swamy'\n",
    "print(stg.count('s'))"
   ]
  },
  {
   "cell_type": "code",
   "execution_count": 6,
   "id": "769393ac",
   "metadata": {},
   "outputs": [
    {
     "name": "stdout",
     "output_type": "stream",
     "text": [
      "2\n"
     ]
    }
   ],
   "source": [
    "stg = 'python hello python'\n",
    "print(stg.count('python'))"
   ]
  },
  {
   "cell_type": "code",
   "execution_count": 7,
   "id": "60658795",
   "metadata": {},
   "outputs": [
    {
     "name": "stdout",
     "output_type": "stream",
     "text": [
      "5\n"
     ]
    }
   ],
   "source": [
    "stg = \"raaarrrr\"\n",
    "print(stg.count('r'))"
   ]
  },
  {
   "cell_type": "code",
   "execution_count": 15,
   "id": "e74b9eea",
   "metadata": {},
   "outputs": [
    {
     "name": "stdout",
     "output_type": "stream",
     "text": [
      "1\n"
     ]
    }
   ],
   "source": [
    "stg = 'python hello python hello'\n",
    "print(stg.count('python',0,6))"
   ]
  },
  {
   "cell_type": "markdown",
   "id": "e00737be",
   "metadata": {},
   "source": [
    "index method\n",
    "\n",
    "use find the index of current character "
   ]
  },
  {
   "cell_type": "code",
   "execution_count": 23,
   "id": "a15d3ec8",
   "metadata": {},
   "outputs": [
    {
     "name": "stdout",
     "output_type": "stream",
     "text": [
      "3\n"
     ]
    }
   ],
   "source": [
    "stg = 'swamy'\n",
    "print(stg.index('m'))"
   ]
  },
  {
   "cell_type": "markdown",
   "id": "0e5e39f3",
   "metadata": {},
   "source": [
    "split method"
   ]
  },
  {
   "cell_type": "code",
   "execution_count": 24,
   "id": "4e6ce9f8",
   "metadata": {},
   "outputs": [
    {
     "name": "stdout",
     "output_type": "stream",
     "text": [
      "['swamy', 'is', 'student']\n"
     ]
    }
   ],
   "source": [
    "text = \"swamy is student\"\n",
    "print(text.split())"
   ]
  },
  {
   "cell_type": "code",
   "execution_count": 25,
   "id": "e2bb725a",
   "metadata": {},
   "outputs": [
    {
     "name": "stdout",
     "output_type": "stream",
     "text": [
      "['hello world swamy']\n"
     ]
    }
   ],
   "source": [
    "word = \"hello world swamy\"\n",
    "print(word.split(\":\"))       # Output: ['hello world']\n"
   ]
  },
  {
   "cell_type": "markdown",
   "id": "ae6a5e0e",
   "metadata": {},
   "source": [
    "find method"
   ]
  },
  {
   "cell_type": "code",
   "execution_count": 27,
   "id": "29283d8f",
   "metadata": {},
   "outputs": [
    {
     "name": "stdout",
     "output_type": "stream",
     "text": [
      "2\n"
     ]
    }
   ],
   "source": [
    "stg = 'swamy'\n",
    "print(stg.find('a'))"
   ]
  },
  {
   "cell_type": "markdown",
   "id": "952174b4",
   "metadata": {},
   "source": [
    "startwith"
   ]
  },
  {
   "cell_type": "code",
   "execution_count": 30,
   "id": "8ada51be",
   "metadata": {},
   "outputs": [
    {
     "name": "stdout",
     "output_type": "stream",
     "text": [
      "True\n"
     ]
    }
   ],
   "source": [
    "stg = 'rayudu'\n",
    "print(stg.startswith('ray'))"
   ]
  },
  {
   "cell_type": "markdown",
   "id": "6d4c1cdb",
   "metadata": {},
   "source": [
    "slising"
   ]
  },
  {
   "cell_type": "code",
   "execution_count": 31,
   "id": "389b613e",
   "metadata": {},
   "outputs": [
    {
     "name": "stdout",
     "output_type": "stream",
     "text": [
      "rayudu\n"
     ]
    }
   ],
   "source": [
    "stg = 'rayudu'\n",
    "print(stg[0:])"
   ]
  },
  {
   "cell_type": "markdown",
   "id": "ff4d6554",
   "metadata": {},
   "source": [
    "another methods"
   ]
  },
  {
   "cell_type": "code",
   "execution_count": 34,
   "id": "4df6f981",
   "metadata": {},
   "outputs": [
    {
     "name": "stdout",
     "output_type": "stream",
     "text": [
      "swamy rayudu\n",
      "SWAMY RAYUDU\n",
      "Swamy Rayudu\n"
     ]
    }
   ],
   "source": [
    "stg = 'Swamy rayudu'\n",
    "print(stg.lower())\n",
    "print(stg.upper())\n",
    "print(stg.title())"
   ]
  },
  {
   "cell_type": "markdown",
   "id": "4321c38a",
   "metadata": {},
   "source": [
    "booleans\n"
   ]
  },
  {
   "cell_type": "code",
   "execution_count": null,
   "id": "9ca907a3",
   "metadata": {},
   "outputs": [],
   "source": [
    "a = 10\n",
    "b = 20\n",
    "if a > b:\n",
    "    print(False)\n",
    "else:\n",
    "    print(True)"
   ]
  },
  {
   "cell_type": "code",
   "execution_count": 40,
   "id": "578055f3",
   "metadata": {},
   "outputs": [
    {
     "name": "stdout",
     "output_type": "stream",
     "text": [
      "5\n"
     ]
    }
   ],
   "source": [
    "i = 0\n",
    "while True:\n",
    "    if i == 5:\n",
    "        print(i)\n",
    "        break\n",
    "    i+=1"
   ]
  },
  {
   "cell_type": "markdown",
   "id": "2581d4bb",
   "metadata": {},
   "source": [
    "all operators"
   ]
  },
  {
   "cell_type": "code",
   "execution_count": 48,
   "id": "fd1f6abd",
   "metadata": {},
   "outputs": [
    {
     "name": "stdout",
     "output_type": "stream",
     "text": [
      "a == b: False\n",
      "a != b: True\n",
      "a > b: False\n",
      "a < b: True\n",
      "a >= b: False\n",
      "a <= b: True\n"
     ]
    }
   ],
   "source": [
    "a = 10\n",
    "b = 20\n",
    "print(\"a == b:\", a == b)\n",
    "print(\"a != b:\", a != b)\n",
    "print(\"a > b:\", a > b)\n",
    "print(\"a < b:\", a < b)\n",
    "print(\"a >= b:\", a >= b)\n",
    "print(\"a <= b:\", a <= b)\n"
   ]
  },
  {
   "cell_type": "code",
   "execution_count": 47,
   "id": "487283e7",
   "metadata": {},
   "outputs": [
    {
     "name": "stdout",
     "output_type": "stream",
     "text": [
      "Arithmetic Operators:\n",
      "a + b = 13\n",
      "a - b = 7\n",
      "a * b = 30\n",
      "a / b = 3.3333333333333335\n",
      "a // b = 3\n",
      "a % b = 1\n",
      "a ** b = 1000\n"
     ]
    }
   ],
   "source": [
    "a = 10\n",
    "b = 3\n",
    "\n",
    "print(\"Arithmetic Operators:\")\n",
    "print(\"a + b =\", a + b)    \n",
    "print(\"a - b =\", a - b)     \n",
    "print(\"a * b =\", a * b)     \n",
    "print(\"a / b =\", a / b)     \n",
    "print(\"a // b =\", a // b)\n",
    "print(\"a % b =\", a % b)  \n",
    "print(\"a ** b =\", a ** b)    \n"
   ]
  },
  {
   "cell_type": "code",
   "execution_count": 49,
   "id": "65424cd7",
   "metadata": {},
   "outputs": [
    {
     "name": "stdout",
     "output_type": "stream",
     "text": [
      "Assignment Operators:\n",
      "x += 2: 7\n",
      "x -= 3: 4\n",
      "x *= 2: 8\n",
      "x /= 4: 2.0\n",
      "x //= 2: 2\n",
      "x %= 2: 0\n",
      "x **= 3: 8\n"
     ]
    }
   ],
   "source": [
    "x = 5\n",
    "print(\"Assignment Operators:\")\n",
    "x += 2\n",
    "print(\"x += 2:\", x)\n",
    "x -= 3\n",
    "print(\"x -= 3:\", x)\n",
    "x *= 2\n",
    "print(\"x *= 2:\", x)\n",
    "x /= 4\n",
    "print(\"x /= 4:\", x)\n",
    "x = 5\n",
    "x //= 2\n",
    "print(\"x //= 2:\", x)\n",
    "x %= 2\n",
    "print(\"x %= 2:\", x)\n",
    "x = 2\n",
    "x **= 3\n",
    "print(\"x **= 3:\", x)"
   ]
  },
  {
   "cell_type": "code",
   "execution_count": 50,
   "id": "5711b9ac",
   "metadata": {},
   "outputs": [
    {
     "name": "stdout",
     "output_type": "stream",
     "text": [
      "Logical Operators:\n",
      "p and q: False\n",
      "p or q: True\n",
      "not p: False\n",
      "\n"
     ]
    }
   ],
   "source": [
    "p = True\n",
    "q = False\n",
    "print(\"Logical Operators:\")\n",
    "print(\"p and q:\", p and q)\n",
    "print(\"p or q:\", p or q)\n",
    "print(\"not p:\", not p)\n",
    "print()"
   ]
  },
  {
   "cell_type": "code",
   "execution_count": 52,
   "id": "008fa814",
   "metadata": {},
   "outputs": [
    {
     "name": "stdout",
     "output_type": "stream",
     "text": [
      "Bitwise Operators:\n",
      "a & b: 1\n",
      "a | b: 7\n",
      "a ^ b: 6\n",
      "a << 1: 10\n",
      "a >> 1: 2\n",
      "\n"
     ]
    }
   ],
   "source": [
    "a = 5\n",
    "b = 3\n",
    "print(\"Bitwise Operators:\")\n",
    "print(\"a & b:\", a & b)\n",
    "print(\"a | b:\", a | b)\n",
    "print(\"a ^ b:\", a ^ b)\n",
    "print(\"a << 1:\", a << 1)\n",
    "print(\"a >> 1:\", a >> 1)\n",
    "print()"
   ]
  },
  {
   "cell_type": "code",
   "execution_count": 53,
   "id": "a1ce549e",
   "metadata": {},
   "outputs": [
    {
     "name": "stdout",
     "output_type": "stream",
     "text": [
      "1\n",
      "5\n",
      "0\n",
      "10\n",
      "1\n",
      "4\n",
      "2\n"
     ]
    }
   ],
   "source": [
    "\n",
    "my_list = [1, 2, 3, 4, 5]\n",
    "print(my_list[0])\n",
    "print(my_list[-1])\n",
    "\n",
    "my_list.append(6)\n",
    "my_list.insert(2, 10)\n",
    "my_list.extend([7, 8])\n",
    "my_list.remove(10)\n",
    "my_list.pop()\n",
    "my_list.pop(2)\n",
    "my_list.reverse()\n",
    "my_list.sort()\n",
    "my_list.clear()\n",
    "print(len(my_list))\n",
    "\n",
    "\n",
    "my_list = [1, 2, 3, 4]\n",
    "print(sum(my_list))\n",
    "print(min(my_list))\n",
    "print(max(my_list))\n",
    "print(my_list.index(3))\n",
    "\n"
   ]
  },
  {
   "cell_type": "code",
   "execution_count": 58,
   "id": "ce6169eb",
   "metadata": {},
   "outputs": [
    {
     "name": "stdout",
     "output_type": "stream",
     "text": [
      "10\n",
      "40\n",
      "1\n",
      "2\n",
      "<class 'tuple'>\n"
     ]
    }
   ],
   "source": [
    "my_tuple = (10, 20, 30, 40)\n",
    "print(my_tuple[0])\n",
    "print(my_tuple[-1])\n",
    "\n",
    "print(my_tuple.count(40))\n",
    "print(my_tuple.index(30))\n",
    "\n",
    "\n",
    "\n",
    "single = (5,)\n",
    "print(type(single))\n"
   ]
  },
  {
   "cell_type": "code",
   "execution_count": null,
   "id": "59faf3e2",
   "metadata": {},
   "outputs": [],
   "source": [
    "my_set = {1, 2, 3, 4}\n",
    "my_set.add(5)\n",
    "my_set.remove(3)\n",
    "\n",
    "my_set.pop()\n",
    "my_set.clear()\n",
    "\n",
    "a = {1, 2, 3}\n",
    "b = {3, 4, 5}\n",
    "print(a.union(b))\n",
    "print(a.intersection(b))\n",
    "print(a.difference(b))\n",
    "print(a.symmetric_difference(b))\n",
    "\n",
    "print(a.issubset(b))\n",
    "print(a.issuperset(b))"
   ]
  },
  {
   "cell_type": "code",
   "execution_count": 64,
   "id": "ab06747f",
   "metadata": {},
   "outputs": [
    {
     "name": "stdout",
     "output_type": "stream",
     "text": [
      "{1: 2, 2: 2, 3: 1, 4: 1, 5: 1}\n"
     ]
    }
   ],
   "source": [
    "list = [1,2,3,4,5,1,2]\n",
    "dic = {}\n",
    "for i in list:\n",
    "    if i not in dic:\n",
    "        dic[i] = 1\n",
    "    else:\n",
    "        dic[i]+=1\n",
    "print(dic)"
   ]
  },
  {
   "cell_type": "code",
   "execution_count": 68,
   "id": "45eed8e8",
   "metadata": {},
   "outputs": [
    {
     "name": "stdout",
     "output_type": "stream",
     "text": [
      "Alice\n",
      "25\n",
      "None\n"
     ]
    }
   ],
   "source": [
    "my_dict = {\"name\": \"Alice\", \"age\": 25}\n",
    "print(my_dict[\"name\"])\n",
    "print(my_dict.get(\"age\"))\n",
    "print(my_dict.get(\"gender\"))"
   ]
  },
  {
   "cell_type": "markdown",
   "id": "1df164e8",
   "metadata": {},
   "source": [
    "conditional Statements"
   ]
  },
  {
   "cell_type": "code",
   "execution_count": 70,
   "id": "63e2ff7d",
   "metadata": {},
   "outputs": [
    {
     "name": "stdout",
     "output_type": "stream",
     "text": [
      "B is big\n"
     ]
    }
   ],
   "source": [
    "a = 1\n",
    "b =2\n",
    "if a > b:\n",
    "    print(\"a is big\")\n",
    "elif a == b:\n",
    "    print(\"a==b\")\n",
    "else:\n",
    "    print(\"B is big\")"
   ]
  },
  {
   "cell_type": "markdown",
   "id": "0ae0b6e8",
   "metadata": {},
   "source": [
    "Match Case"
   ]
  },
  {
   "cell_type": "code",
   "execution_count": 72,
   "id": "5b47df86",
   "metadata": {},
   "outputs": [
    {
     "name": "stdout",
     "output_type": "stream",
     "text": [
      "Invalid day\n"
     ]
    }
   ],
   "source": [
    "day = 9\n",
    "\n",
    "match day:\n",
    "    case 1:\n",
    "        print(\"Monday\")\n",
    "    case 2:\n",
    "        print(\"Tuesday\")\n",
    "    case 3:\n",
    "        print(\"Wednesday\")\n",
    "    case _:\n",
    "        print(\"Invalid day\")\n"
   ]
  },
  {
   "cell_type": "code",
   "execution_count": 73,
   "id": "b5208ccb",
   "metadata": {},
   "outputs": [
    {
     "name": "stdout",
     "output_type": "stream",
     "text": [
      "It's an apple.\n"
     ]
    }
   ],
   "source": [
    "fruit = \"apple\"\n",
    "\n",
    "match fruit:\n",
    "    case \"apple\":\n",
    "        print(\"It's an apple.\")\n",
    "    case \"banana\":\n",
    "        print(\"It's a banana.\")\n",
    "    case _:\n",
    "        print(\"Unknown fruit.\")\n"
   ]
  },
  {
   "cell_type": "code",
   "execution_count": 74,
   "id": "83d3aebb",
   "metadata": {},
   "outputs": [
    {
     "name": "stdout",
     "output_type": "stream",
     "text": [
      "Something else\n"
     ]
    }
   ],
   "source": [
    "value = 99\n",
    "\n",
    "match value:\n",
    "    case 1:\n",
    "        print(\"One\")\n",
    "    case 2:\n",
    "        print(\"Two\")\n",
    "    case _:\n",
    "        print(\"Something else\")\n"
   ]
  }
 ],
 "metadata": {
  "kernelspec": {
   "display_name": "Python 3",
   "language": "python",
   "name": "python3"
  },
  "language_info": {
   "codemirror_mode": {
    "name": "ipython",
    "version": 3
   },
   "file_extension": ".py",
   "mimetype": "text/x-python",
   "name": "python",
   "nbconvert_exporter": "python",
   "pygments_lexer": "ipython3",
   "version": "3.12.4"
  }
 },
 "nbformat": 4,
 "nbformat_minor": 5
}
