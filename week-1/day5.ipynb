{
 "cells": [
  {
   "cell_type": "markdown",
   "id": "09653326",
   "metadata": {},
   "source": [
    "recurtion + oops and functions"
   ]
  },
  {
   "cell_type": "code",
   "execution_count": 1,
   "id": "49b8d015",
   "metadata": {},
   "outputs": [
    {
     "name": "stdout",
     "output_type": "stream",
     "text": [
      "2\n"
     ]
    }
   ],
   "source": [
    "def factoral(n):\n",
    "    if n == 0 or n ==1:\n",
    "        return 1\n",
    "    return n * factoral(n-1)\n",
    "def find(n):\n",
    "    fact = factoral(n)\n",
    "    count = 0\n",
    "    while fact % 10 == 0:\n",
    "        count+=1\n",
    "        fact /= 10\n",
    "    return count\n",
    "print(find(12))"
   ]
  },
  {
   "cell_type": "code",
   "execution_count": 2,
   "id": "6d22e88c",
   "metadata": {},
   "outputs": [],
   "source": [
    "class Solution:\n",
    "    def trailingZeroes(self, n: int) -> int:\n",
    "        count = 0\n",
    "        while n >= 5:\n",
    "            count += n//5\n",
    "            n//=5\n",
    "        return count"
   ]
  },
  {
   "cell_type": "code",
   "execution_count": null,
   "id": "8ea04993",
   "metadata": {},
   "outputs": [],
   "source": []
  }
 ],
 "metadata": {
  "kernelspec": {
   "display_name": "Python 3",
   "language": "python",
   "name": "python3"
  },
  "language_info": {
   "codemirror_mode": {
    "name": "ipython",
    "version": 3
   },
   "file_extension": ".py",
   "mimetype": "text/x-python",
   "name": "python",
   "nbconvert_exporter": "python",
   "pygments_lexer": "ipython3",
   "version": "3.12.4"
  }
 },
 "nbformat": 4,
 "nbformat_minor": 5
}
